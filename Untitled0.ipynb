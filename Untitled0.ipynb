{
  "nbformat": 4,
  "nbformat_minor": 0,
  "metadata": {
    "colab": {
      "provenance": [],
      "authorship_tag": "ABX9TyOvInuRvKmJjUofrm0VdQsN",
      "include_colab_link": true
    },
    "kernelspec": {
      "name": "python3",
      "display_name": "Python 3"
    },
    "language_info": {
      "name": "python"
    }
  },
  "cells": [
    {
      "cell_type": "markdown",
      "metadata": {
        "id": "view-in-github",
        "colab_type": "text"
      },
      "source": [
        "<a href=\"https://colab.research.google.com/github/Defelo-943/Defelo-943/blob/main/Untitled0.ipynb\" target=\"_parent\"><img src=\"https://colab.research.google.com/assets/colab-badge.svg\" alt=\"Open In Colab\"/></a>"
      ]
    },
    {
      "cell_type": "code",
      "execution_count": null,
      "metadata": {
        "id": "d9Trcz3JwGlT"
      },
      "outputs": [],
      "source": [
        "\n",
        "\n",
        "\n",
        "\n",
        "\n",
        "\n",
        "\n",
        "\n",
        "\n",
        "\n",
        "\n",
        "\n",
        "\n"
      ]
    },
    {
      "cell_type": "markdown",
      "source": [
        "import dependencies"
      ],
      "metadata": {
        "id": "hH2fgqlc2Ufi"
      }
    },
    {
      "cell_type": "code",
      "source": [
        "import numpy as np\n",
        "from sklearn.model_selection import train_test_split\n",
        "from sklearn.ensemble import RandomForestClassifier\n",
        "from sklearn.metrics import accuracy_score\n",
        "\n",
        "# Sample data (replace this with your own dataset)\n",
        "# Features: age, gender, family history, sleep pattern, mood swings frequency\n",
        "X = np.array([[25, 0, 1, 7, 3],\n",
        "              [30, 1, 0, 6, 4],\n",
        "              [35, 0, 1, 5, 2],\n",
        "              [40, 1, 1, 6, 5],\n",
        "              [45, 0, 0, 5, 3]])\n",
        "\n",
        "# Labels: 1 for bipolar disorder, 0 for no bipolar disorder\n",
        "y = np.array([1, 1, 0, 1, 0])\n",
        "\n",
        "# Splitting data into training and testing sets\n",
        "X_train, X_test, y_train, y_test = train_test_split(X, y, test_size=0.2, random_state=42)\n",
        "\n",
        "# Initializing the RandomForestClassifier\n",
        "clf = RandomForestClassifier()\n",
        "\n",
        "# Training the classifier\n",
        "clf.fit(X_train, y_train)\n",
        "\n",
        "# Making predictions\n",
        "predictions = clf.predict(X_test)\n",
        "\n",
        "# Evaluating accuracy\n",
        "accuracy = accuracy_score(y_test, predictions)\n",
        "print(\"Accuracy:\", accuracy)\n",
        "\n",
        "# Example usage: predicting for a new individual\n",
        "new_data = np.array([[38, 1, 1, 5, 3]])\n",
        "prediction_new = clf.predict(new_data)\n",
        "print(\"Predicted class for new individual:\", prediction_new)"
      ],
      "metadata": {
        "id": "cf9HJp492Yu4"
      },
      "execution_count": null,
      "outputs": []
    },
    {
      "cell_type": "markdown",
      "source": [],
      "metadata": {
        "id": "MRiLvs-92adC"
      }
    }
  ]
}